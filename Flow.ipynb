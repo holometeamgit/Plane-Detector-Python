{
 "cells": [
  {
   "cell_type": "code",
   "execution_count": null,
   "metadata": {},
   "outputs": [],
   "source": [
    "from core_functions import *"
   ]
  },
  {
   "cell_type": "code",
   "execution_count": null,
   "metadata": {},
   "outputs": [],
   "source": [
    "(all_rgb_frames, all_gray_frames, all_kp, all_des) = get_kp_des(\"video_table.mov\", points_count = 150)"
   ]
  },
  {
   "cell_type": "code",
   "execution_count": null,
   "metadata": {},
   "outputs": [],
   "source": [
    "def get_max_score(cur_kp, cur_des, cur_points, scan_inds):\n",
    "    max_score = 0\n",
    "    ind = -1\n",
    "    for j in range(len(scan_inds)):\n",
    "        kp = all_kp[scan_inds[j]]\n",
    "        des = all_des[scan_inds[j]]\n",
    "        points = [(int(k.pt[0]), int(k.pt[1])) for k in kp]\n",
    "        \n",
    "        cur_h = find_H_mask_between_points(kp, des, cur_kp, cur_des)\n",
    "        (cur_ind_from, cur_ind_to, m_from, m_to) = find_good_points_with_opt(cur_h, points, cur_points)\n",
    "        first_j = float(np.count_nonzero(m_from)) / len(m_from)\n",
    "        secound_j = float(np.count_nonzero(m_to)) / len(m_to)\n",
    "        score_j = first_j + secound_j\n",
    "        if score_j > max_score:\n",
    "            max_score = score_j\n",
    "            ind = j\n",
    "            \n",
    "    return (max_score, j)"
   ]
  },
  {
   "cell_type": "code",
   "execution_count": null,
   "metadata": {},
   "outputs": [],
   "source": [
    "scan_inds = [0]\n",
    "Hs = [np.eye(3)]\n",
    "\n",
    "firts_point = (80, 400)\n",
    "cur_point = (80, 400)\n",
    "font = cv2.FONT_HERSHEY_SIMPLEX\n",
    "x, y = 10, 20 #position of text 81 94 320\n",
    "H_from_first = np.eye(3)\n",
    "\n",
    "for i in range(1, 368):\n",
    "    \n",
    "    cur_frame = all_rgb_frames[i].copy()\n",
    "    cur_frame = cv2.cvtColor(cur_frame, cv2.COLOR_BGR2RGB)\n",
    "\n",
    "    prev_kp = all_kp[i-1]\n",
    "    prev_des = all_des[i-1]\n",
    "    prev_points = [(int(k.pt[0]), int(k.pt[1])) for k in prev_kp]\n",
    "    \n",
    "    cur_kp = all_kp[i]\n",
    "    cur_des = all_des[i]\n",
    "    cur_points = [(int(k.pt[0]), int(k.pt[1])) for k in cur_kp]\n",
    "    \n",
    "    cur_h = find_H_mask_between_points(prev_kp, prev_des, cur_kp, cur_des)\n",
    "    H_from_first = np.dot(cur_h, H_from_first)\n",
    "    \n",
    "    (d, a) = get_min_distance(H_from_first, scan_inds, Hs)\n",
    "    if (d > 200) or (a > 0.03):\n",
    "        if (len(scan_inds) < 6):\n",
    "            Hs.append(H_from_first.copy())\n",
    "            scan_inds.append(i)\n",
    "\n",
    "#     print(len(scan_inds))\n",
    "    (cur_ind_from, cur_ind_to, m_from, m_to) = find_good_points_with_opt(cur_h, prev_points, cur_points)\n",
    "    \n",
    "    first = float(np.count_nonzero(m_from)) / len(m_from)\n",
    "    secound = float(np.count_nonzero(m_to)) / len(m_to)\n",
    "    score = first + secound\n",
    "    max_score_str = \"-\"\n",
    "    if (score < 0.7):\n",
    "        (max_score, max_score_ind) = get_max_score(cur_kp, cur_des, cur_points, scan_inds)\n",
    "        max_score_str = \"max score {:1.2f} ind {} all {}\".format(max_score, max_score_ind, len(scan_inds))\n",
    "    \n",
    "        if (max_score > (score + 0.8)):\n",
    "            cur_h = find_H_mask_between_points(all_kp[max_score_ind], all_des[max_score_ind], cur_kp, cur_des)\n",
    "            H_from_first = np.dot(cur_h, Hs[max_score_ind].copy())\n",
    "        \n",
    "#     first_str = \" f {:1.2f} \".format(first)\n",
    "#     secound_str = \"s {:1.2f}\".format(secound)\n",
    "    score_str = \"score {:1.2f} ind {}\".format(score, i)\n",
    "    \n",
    "    \n",
    "#     max_score,  = get_max_score()\n",
    "    \n",
    "    cur_point = np.array(homography_points_transform(H_from_first, [firts_point]))[0]\n",
    "    cur_frame = cv2.circle(cur_frame, (int(cur_point[0]), int(cur_point[1])), 3, (255,255,255), 2)\n",
    "    \n",
    "    cv2.putText(cur_frame, score_str, (x,y), font, 0.75,(255,255,0), 2)\n",
    "    cv2.putText(cur_frame, max_score_str, (x,y+20), font, 0.75,(255,255,0), 2)\n",
    "    \n",
    "    cv2.imshow('rgb', cur_frame)\n",
    "\n",
    "    if cv2.waitKey(0) & 0xFF == ord('q'):\n",
    "        break "
   ]
  }
 ],
 "metadata": {
  "kernelspec": {
   "display_name": "Python 3",
   "language": "python",
   "name": "python3"
  },
  "language_info": {
   "codemirror_mode": {
    "name": "ipython",
    "version": 3
   },
   "file_extension": ".py",
   "mimetype": "text/x-python",
   "name": "python",
   "nbconvert_exporter": "python",
   "pygments_lexer": "ipython3",
   "version": "3.7.3"
  }
 },
 "nbformat": 4,
 "nbformat_minor": 2
}
